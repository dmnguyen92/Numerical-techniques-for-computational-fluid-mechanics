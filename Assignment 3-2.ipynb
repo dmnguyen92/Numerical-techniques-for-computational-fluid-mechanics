{
 "cells": [
  {
   "cell_type": "markdown",
   "metadata": {},
   "source": [
    "#Flow passes an obstacle\n",
    "In this notebook, we will use boundary element method to solve the problem of a potential flow passing an circle obstacle in the channel."
   ]
  },
  {
   "cell_type": "code",
   "execution_count": 1,
   "metadata": {
    "collapsed": true
   },
   "outputs": [],
   "source": [
    "from mpl_toolkits.mplot3d import Axes3D\n",
    "import matplotlib.pyplot as plt\n",
    "import numpy as np\n",
    "%matplotlib inline\n",
    "eps=1e-10"
   ]
  },
  {
   "cell_type": "markdown",
   "metadata": {},
   "source": [
    "The problem involves a tube having length $L_x$ and width $L_y$ with a circle obstacle having radius $R$ lying in the middle of the channel (Fig. 1). The goal is to study the steady flow profile when an inlet velocity $u_0$ is provided. \n",
    "A standard procedure to solve a potential flow problem starts with the Laplace's equation for velocity potential:\n",
    "\n",
    "$$\n",
    "\\begin{equation*}\n",
    "\\nabla ^2 \\phi=0\n",
    "\\tag{1}\\end{equation*}\n",
    "$$\n",
    "\n",
    "If the boundary values of $\\phi$ are known, one can solve for $\\phi$ in the whole domain using BEM and then compute the flow velocity using:\n",
    "\n",
    "$$\n",
    "\\begin{equation*}\n",
    "\\mathbf{u}=\\nabla \\phi\n",
    "\\tag{2}\\end{equation*}\n",
    "$$\n",
    "\n",
    "BEM, however, can only be used if $\\phi$ on a closed boundary surface is known. In this situation, where there exist two closed surface: the outer rectangle and the inner circle, this method cannot be used. To resolve this, we make use of the axis symmetry of the geometry through the Ox line. With this symmetry, the velocity profile in the two halves of the channel, seperated by the line Ox, should be identical. Therefore, the problem can be modified as solving the flow in a channel as in Fig. 2. The boundary conditions for velocity potential are also given in the same figure.\n",
    "\n",
    "<img src=\"Figure 2-1.jpg\"alt=\"Drawing\" /> \n",
    "\n",
    "<img src=\"Figure 2-2.jpg\"alt=\"Drawing\" /> "
   ]
  },
  {
   "cell_type": "code",
   "execution_count": 2,
   "metadata": {
    "collapsed": false
   },
   "outputs": [],
   "source": [
    "def CalcF(xi,eta,xk,yk,nkx,nky,L):\n",
    "    A=L**2.\n",
    "    B=2.*L*(-nky*(xk-xi)+nkx*(yk-eta))\n",
    "    E=(xk-xi)**2.+(yk-eta)**2.\n",
    "    M=np.sqrt(np.fabs(4.*A*E-B**2.))\n",
    "    BA=B/A\n",
    "    EA=E/A\n",
    "    if (M<eps):\n",
    "        F1=0.5/np.pi*L*(np.log(L)+(1+0.5*BA)*np.log(np.fabs(1+0.5*BA))-\\\n",
    "                          1-0.5*BA*np.log(np.fabs(0.5*BA)))\n",
    "        F2=0.\n",
    "    else:\n",
    "        F1=1./np.pi*0.25*L*(2.*(np.log(L)-1.)-0.5*BA*np.log(np.fabs(EA))+\\\n",
    "                   (1.+0.5*BA)*np.log(np.fabs(1.+BA+EA))+\\\n",
    "                   (M/A)*(np.arctan((2.*A+B)/M)-np.arctan(B/M)))\n",
    "        F2=1./np.pi*L*(nkx*(xk-xi)+nky*(yk-eta))/M*(np.arctan((2.*A+B)/M)-np.arctan(B/M))\n",
    "        \n",
    "    return F1,F2"
   ]
  },
  {
   "cell_type": "code",
   "execution_count": 3,
   "metadata": {
    "collapsed": false
   },
   "outputs": [],
   "source": [
    "def CELAP1(N,xm,ym,xb,yb,nx,ny,lg,BCT,BCV):\n",
    "    B=np.zeros(N)\n",
    "    A=np.zeros((N,N))\n",
    "    phi=np.zeros(N)\n",
    "    dphi=np.zeros(N)\n",
    "    for m in range(N):\n",
    "        for k in range(N):\n",
    "            F1,F2=CalcF(xm[m],ym[m],xb[k],yb[k],nx[k],ny[k],lg[k])\n",
    "            if (k==m):\n",
    "                delta=1.\n",
    "            else:\n",
    "                delta=0.\n",
    "            if (BCT[k]==0):\n",
    "                A[m,k]=-F1\n",
    "                B[m]=B[m]+BCV[k]*(-F2+.5*delta)\n",
    "            else:\n",
    "                A[m,k]=F2-0.5*delta\n",
    "                B[m]=B[m]+BCV[k]*F1\n",
    "                \n",
    "    Z=np.linalg.solve(A,B)\n",
    "    \n",
    "    for m in range(N):\n",
    "        if (BCT[m]==0):\n",
    "            phi[m]=BCV[m]\n",
    "            dphi[m]=Z[m]\n",
    "        else:\n",
    "            phi[m]=Z[m]\n",
    "            dphi[m]=BCV[m]\n",
    "    \n",
    "    return phi, dphi       "
   ]
  },
  {
   "cell_type": "code",
   "execution_count": 4,
   "metadata": {
    "collapsed": false
   },
   "outputs": [],
   "source": [
    "def CELAP2(N,xi,eta,xb,yb,nx,ny,lg,phi,dphi):\n",
    "    mysum=0.\n",
    "    for i in range(N):\n",
    "        F1,F2=CalcF(xi,eta,xb[i],yb[i],nx[i],ny[i],lg[i])\n",
    "        mysum=mysum+phi[i]*F2-dphi[i]*F1\n",
    "    return mysum"
   ]
  },
  {
   "cell_type": "code",
   "execution_count": 22,
   "metadata": {
    "collapsed": false
   },
   "outputs": [],
   "source": [
    "#======THE MAIN PROGRAM======#\n",
    "\n",
    "#------Input parameters------#\n",
    "\n",
    "#Inlet velocity:\n",
    "u0=2.0\n",
    "#Wall length\n",
    "Lx=2.0; Ly=1.0\n",
    "lx=Lx; ly=Ly/2\n",
    "#Radius of object\n",
    "R=0.2\n",
    "#Location of object\n",
    "l_R=1.\n",
    "#Number of elements per side:\n",
    "N0=50\n",
    "#Total number of elements\n",
    "N=5*N0\n",
    "#Gridlength\n",
    "dlx=lx/N0; dly=ly/N0\n",
    "\n",
    "#-------Calculate boundary values of phi-------#\n",
    "\n",
    "#Position of the corners\n",
    "xb=np.zeros(N+1)\n",
    "yb=np.zeros(N+1)\n",
    "#Position of the midpoint\n",
    "xm=np.zeros(N)\n",
    "ym=np.zeros(N)\n",
    "#Element length\n",
    "lg=np.zeros(N)\n",
    "#Normal vector\n",
    "nx=np.zeros(N)\n",
    "ny=np.zeros(N)\n",
    "#Type of boundary condition\n",
    "BCT=np.zeros(N)\n",
    "#Values of boundary condition\n",
    "BCV=np.zeros(N)\n",
    "\n",
    "#Position of the boundaries:\n",
    "\n",
    "#The bottom boundary with the circular object should have finer mesh\n",
    "N_R=2*N0-(lx-2*R)/dlx  #number of elements in the half circle\n",
    "i_b=(l_R-R)/dlx  #beginning point of the circle\n",
    "i_e=i_b+N_R  #end point of the circle\n",
    "\n",
    "for i in range (2*N0):                         \n",
    "    if (i<=i_b):\n",
    "        xb[i]=i*dlx\n",
    "        yb[i]=0\n",
    "    elif ((i_b<i) and (i<i_e)):\n",
    "        xb[i]=l_R+R*np.cos(np.pi*(1-(i-i_b)/N_R))\n",
    "        yb[i]=np.sqrt(R**2-(xb[i]-l_R)**2)\n",
    "    else:\n",
    "        xb[i]=lx-(2*N0-i)*dlx\n",
    "        yb[i]=0\n",
    "\n",
    "for i in range (N0):\n",
    "    xb[2*N0+i]=lx              #right\n",
    "    yb[2*N0+i]=i*dly\n",
    "    \n",
    "    xb[3*N0+i]=N0*dlx-i*dlx       #top\n",
    "    yb[3*N0+i]=ly\n",
    "    \n",
    "    xb[4*N0+i]=0.                #left\n",
    "    yb[4*N0+i]=N0*dly-i*dly\n",
    "    \n",
    "\n",
    "xb[N]=xb[0]\n",
    "yb[N]=yb[0]\n",
    "\n",
    "#Position of midpoints + length of elements + normal vectors\n",
    "for i in range (N):\n",
    "    xm[i]=0.5*(xb[i]+xb[i+1])      # midpoints\n",
    "    ym[i]=0.5*(yb[i]+yb[i+1])\n",
    "    \n",
    "    lg[i]=np.sqrt((xb[i+1]-xb[i])**2.+(yb[i+1]-yb[i])**2.)     #length\n",
    "    \n",
    "    nx[i]=(yb[i+1]-yb[i])/lg[i]      #normal vector\n",
    "    ny[i]=(-xb[i+1]+xb[i])/lg[i]\n",
    "    \n",
    "#Setup boundary conditions\n",
    "for i in range (N):\n",
    "    if (i<2*N0):           #bottom\n",
    "        BCT[i]=1\n",
    "        BCV[i]=0.\n",
    "        \n",
    "    elif (i<3*N0):       #right\n",
    "        BCT[i]=0\n",
    "        BCV[i]=0\n",
    "        \n",
    "    elif (i<4*N0):       #top\n",
    "        BCT[i]=1\n",
    "        BCV[i]=0\n",
    "        \n",
    "    else:                #left\n",
    "        BCT[i]=1\n",
    "        BCV[i]=u0\n",
    "\n",
    "\n",
    "#Calculate all boundary values\n",
    "phi,dphi=CELAP1(N,xm,ym,xb,yb,nx,ny,lg,BCT,BCV)\n",
    "\n",
    "#------Calculate velocity potential for the domain-------#\n",
    "\n",
    "#Generate the grid:\n",
    "Nx=4*N0; Ny=N0\n",
    "dx=lx/(Nx); dy=ly/(Ny)\n",
    "x=np.linspace(0.,lx,Nx+1); y=np.linspace(0.,ly,Ny+1)\n",
    "X,Y=np.meshgrid(x,y)\n",
    "phi_bem=np.zeros((Ny+1,Nx+1))\n",
    "\n",
    "#Calculate potential for the whole domain:\n",
    "for i in range (1,Ny):\n",
    "    for j in range (1,Nx):\n",
    "        if (((X[i,j]-l_R)**2+Y[i,j]**2)>R**2):\n",
    "            phi_bem[i,j]=CELAP2(N,X[i,j],Y[i,j],xb,yb,nx,ny,lg,phi,dphi)\n",
    "            \n",
    "#Calculate the potential for the boundary:\n",
    "for i in range (1,Nx):\n",
    "    phi_bem[0,i]=phi_bem[1,i]     #top\n",
    "    phi_bem[Ny,i]=phi_bem[Ny-1,i]     #bottom\n",
    "\n",
    "for i in range (1,Ny):\n",
    "    phi_bem[i,0]=phi_bem[i,1]-u0*dx    #left\n",
    "    phi_bem[i,Nx]=0    #right\n",
    "    \n",
    "#-------Calculate the velocity--------#\n",
    "#Initialize the grid:\n",
    "u=np.zeros((Ny+1,Nx+1))\n",
    "v=np.zeros((Ny+1,Nx+1))\n",
    "\n",
    "#Calculate the velocity for the whole domain\n",
    "u[1:-1,1:-1]=0.5/dx*(phi_bem[1:-1,0:-2]-phi_bem[1:-1,2:])\n",
    "v[1:-1,1:-1]=0.5/dy*(phi_bem[0:-2,1:-1]-phi_bem[2:,1:-1])\n",
    "\n",
    "#Force the fluid velocity in the region of the circular object to be 0:\n",
    "for i in range (Ny):\n",
    "    for j in range (Nx):\n",
    "        if (((X[i,j]-l_R)**2+Y[i,j]**2-(R+dx)**2)<0):\n",
    "            u[i,j]=0; v[i,j]=0\n",
    "\n",
    "#Apply boundary condition for velocity\n",
    "u[:,0]=u0; v[:,0]=0        #inlet\n",
    "u[0,:]=0; v[0,:]=0          #top wall\n",
    "v[Ny,:]=0         #bottom wall\n",
    "u[:,Nx]=u[:,Nx-1]; v[:,Nx]=v[:,Nx-1]     #outlet"
   ]
  },
  {
   "cell_type": "code",
   "execution_count": 31,
   "metadata": {
    "collapsed": false
   },
   "outputs": [
    {
     "data": {
      "text/plain": [
       "<matplotlib.streamplot.StreamplotSet at 0x131be710>"
      ]
     },
     "execution_count": 31,
     "metadata": {},
     "output_type": "execute_result"
    },
    {
     "data": {
      "image/png": "[encoded data removed]",
      "text/plain": [
       "<matplotlib.figure.Figure at 0x122f1f28>"
      ]
     },
     "metadata": {},
     "output_type": "display_data"
    }
   ],
   "source": [
    "#plot the graph\n",
    "fig=plt.figure(figsize=(10,2.5), dpi=300)\n",
    "plt.streamplot(X,Y,u,v,density=0.6)"
   ]
  },
  {
   "cell_type": "code",
   "execution_count": 52,
   "metadata": {
    "collapsed": false
   },
   "outputs": [
    {
     "data": {
      "image/png": "[encoded data removed]",
      "text/plain": [
       "<matplotlib.figure.Figure at 0x1266b470>"
      ]
     },
     "metadata": {},
     "output_type": "display_data"
    }
   ],
   "source": [
    "#------Plot the velocity of the whole domain------#\n",
    "\n",
    "#Generate new grid:\n",
    "Nx=4*N0; Ny=2*N0\n",
    "xx=np.linspace(0.,Lx,Nx+1); yy=np.linspace(0.,Ly,Ny+1)\n",
    "XX,YY=np.meshgrid(xx,yy)\n",
    "uu=np.zeros((Ny+1,Nx+1))\n",
    "vv=np.zeros((Ny+1,Nx+1))\n",
    "            \n",
    "for i in range (Ny):\n",
    "    for j in range (Nx):\n",
    "        if (i<=(Ny/2)):\n",
    "            uu[i,j]=u[Ny/2-i,j]; vv[i,j]=-v[Ny/2-i,j]\n",
    "        else:\n",
    "            uu[i,j]=u[i-Ny/2,j]; vv[i,j]=v[i-Ny/2,j]\n",
    "\n",
    "#Plot the graph:\n",
    "fig=plt.figure(figsize=(10,5), dpi=300)\n",
    "a=plt.gca()\n",
    "plt.streamplot(XX,YY,uu,vv,density=0.6)\n",
    "c1=a.add_patch(plt.Circle((Lx/2,Ly/2),R,facecolor=\"white\"))"
   ]
  },
  {
   "cell_type": "code",
   "execution_count": null,
   "metadata": {
    "collapsed": true
   },
   "outputs": [],
   "source": []
  }
 ],
 "metadata": {
  "kernelspec": {
   "display_name": "Python 2",
   "language": "python",
   "name": "python2"
  },
  "language_info": {
   "codemirror_mode": {
    "name": "ipython",
    "version": 2
   },
   "file_extension": ".py",
   "mimetype": "text/x-python",
   "name": "python",
   "nbconvert_exporter": "python",
   "pygments_lexer": "ipython2",
   "version": "2.7.10"
  }
 },
 "nbformat": 4,
 "nbformat_minor": 0
}
